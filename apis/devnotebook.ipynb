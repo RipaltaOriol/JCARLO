{
 "cells": [
  {
   "cell_type": "markdown",
   "metadata": {},
   "source": [
    "# Semantic Scholar\n",
    "\n",
    "Thank you for requesting a Semantic Scholar API key! Your request has been approved. Here are the details:\n",
    "\n",
    "**S2 API Key**: ijZAh3FxuM1YXwVYvuFgBAm2xreyRcu5KSNxaqFa\n",
    "Rate limit:\n",
    "* 1 request per second for the following endpoints:\n",
    "    * /paper/batch\n",
    "    * /paper/search\n",
    "    * /recommendations\n",
    "* 10 requests / second for all other calls"
   ]
  },
  {
   "cell_type": "markdown",
   "metadata": {},
   "source": [
    "### Docs Links\n",
    "\n",
    "https://www.semanticscholar.org/product/api/tutorial\n",
    "\n",
    "https://api.semanticscholar.org/api-docs/graph#tag/Paper-Data/operation/post_graph_get_papers"
   ]
  },
  {
   "cell_type": "code",
   "execution_count": 98,
   "metadata": {},
   "outputs": [],
   "source": [
    "API_KEY = \"ijZAh3FxuM1YXwVYvuFgBAm2xreyRcu5KSNxaqFa\""
   ]
  },
  {
   "cell_type": "code",
   "execution_count": 3,
   "metadata": {},
   "outputs": [],
   "source": [
    "def print_papers(papers):\n",
    "    for idx, paper in enumerate(papers):\n",
    "        print(f\"{idx}  {paper['title']} {paper['url']}\")"
   ]
  },
  {
   "cell_type": "code",
   "execution_count": 6,
   "metadata": {},
   "outputs": [],
   "source": [
    "import requests\n",
    "import re\n",
    "\n",
    "def find_basis_paper(papers = None, query = None):\n",
    "    while not papers:\n",
    "        query = input('Find papers about what: ')\n",
    "        if not query:\n",
    "            continue\n",
    "\n",
    "        rsp = requests.get('https://api.semanticscholar.org/graph/v1/paper/search',\n",
    "                           headers={'X-API-KEY': API_KEY},\n",
    "                           params={'query': query, 'limit': 5, 'fields': 'title,url'})\n",
    "        rsp.raise_for_status()\n",
    "        results = rsp.json()\n",
    "        total = results[\"total\"]\n",
    "        if not total:\n",
    "            print('No matches found. Please try another query.')\n",
    "            continue\n",
    "\n",
    "        print(f'Found {total} results. Showing up to {5}.')\n",
    "        papers = results['data']\n",
    "        print_papers(papers)\n",
    "\n",
    "    # selection = ''\n",
    "    # while not re.fullmatch('\\\\d+', selection):\n",
    "    #     selection = input('Select a paper # to base recommendations on: ')\n",
    "    # return results['data'][int(selection)]"
   ]
  },
  {
   "cell_type": "code",
   "execution_count": 101,
   "metadata": {},
   "outputs": [
    {
     "name": "stdout",
     "output_type": "stream",
     "text": [
      "{'total': 170, 'offset': 0, 'next': 5, 'data': [{'paperId': '711ea382ee4ad505cb3f9a62d97d8d5021e1832a', 'url': 'https://www.semanticscholar.org/paper/711ea382ee4ad505cb3f9a62d97d8d5021e1832a', 'title': 'Mitochondrial metabolism promotes adaptation to proteotoxic stress', 'abstract': None, 'year': 2019, 'citationCount': 209}, {'paperId': '81edc8442658e265faa6d756c9c4ebb36c5e3293', 'url': 'https://www.semanticscholar.org/paper/81edc8442658e265faa6d756c9c4ebb36c5e3293', 'title': 'Author Correction: Mitochondrial metabolism promotes adaptation to proteotoxic stress', 'abstract': None, 'year': 2019, 'citationCount': 4}, {'paperId': '78f468c80c8e61e0c463e61bb536d35fd7339503', 'url': 'https://www.semanticscholar.org/paper/78f468c80c8e61e0c463e61bb536d35fd7339503', 'title': 'YAP governs cellular adaptation to perturbation of glutamine metabolism by regulating ATF4-mediated stress response', 'abstract': None, 'year': 2023, 'citationCount': 0}, {'paperId': '73df746372f9bd75773da447ee085116e7beed7e', 'url': 'https://www.semanticscholar.org/paper/73df746372f9bd75773da447ee085116e7beed7e', 'title': 'A Kinase Interacting Protein 1 regulates mitochondrial protein levels in energy metabolism and promotes mitochondrial turnover after exercise', 'abstract': None, 'year': 2023, 'citationCount': 0}, {'paperId': '2f934e188bb3fb071eb913a62e14e7b0e15b4b98', 'url': 'https://www.semanticscholar.org/paper/2f934e188bb3fb071eb913a62e14e7b0e15b4b98', 'title': 'Mitochondrial Adaptation to Diet and Swimming Activity in Gilthead Seabream: Improved Nutritional Efficiency', 'abstract': 'Sustained exercise promotes growth in different fish species, and in gilthead seabream we have demonstrated that it improves nutrient use efficiency. This study assesses for differences in growth rate, tissue composition and energy metabolism in gilthead seabream juveniles fed two diets: high-protein (HP; 54% protein, 15% lipid) or high energy (HE; 50% protein, 20% lipid), under voluntary swimming (VS) or moderate-to-low-intensity sustained swimming (SS) for 6 weeks. HE fed fish under VS conditions showed lower body weight and higher muscle lipid content than HP fed fish, but no differences between the two groups were observed under SS conditions. Irrespective of the swimming regime, the white muscle stable isotopes profile of the HE group revealed increased nitrogen and carbon turnovers. Nitrogen fractionation increased in the HP fed fish under SS, indicating enhanced dietary protein oxidation. Hepatic gene expression markers of energy metabolism and mitochondrial biogenesis showed clear differences between the two diets under VS: a significant shift in the COX/CS ratio, modifications in UCPs, and downregulation of PGC1a in the HE-fed fish. Swimming induced mitochondrial remodeling through upregulation of fusion and fission markers, and removing almost all the differences observed under VS. In the HE-fed fish, white skeletal muscle benefited from the increased energy demand, amending the oxidative uncoupling produced under the VS condition by an excess of lipids and the pro-fission state observed in mitochondria. Contrarily, red muscle revealed more tolerant to the energy content of the HE diet, even under VS conditions, with higher expression of oxidative enzymes (COX and CS) without any sign of mitochondrial stress or mitochondrial biogenesis induction. Furthermore, this tissue had enough plasticity to shift its metabolism under higher energy demand (SS), again equalizing the differences observed between diets under VS condition. Globally, the balance between dietary nutrients affects mitochondrial regulation due to their use as energy fuels, but exercise corrects imbalances allowing practical diets with lower protein and higher lipid content without detrimental effects.', 'year': 2021, 'citationCount': 5}]}\n"
     ]
    }
   ],
   "source": [
    "import requests\n",
    "\n",
    "query = \"Mitochondrial metabolism promotes adaptation to proteotoxic stress\"\n",
    "# query = \"FDX1 is directly targeted by Elesclomol\"\n",
    "rsp = requests.get('https://api.semanticscholar.org/graph/v1/paper/search',\n",
    "    headers={'X-API-KEY': API_KEY},\n",
    "    params={'query': query, 'limit': 5, 'fields': 'title,url,year,citationCount,abstract'})\n",
    "\n",
    "data = rsp.json()\n",
    "data\n",
    "if 'data' in data:\n",
    "    print(data)\n",
    "else:\n",
    "    print(\"Nothing\")\n",
    "# for paper in data['data']:\n",
    "#     print(paper['title'])"
   ]
  },
  {
   "cell_type": "code",
   "execution_count": 111,
   "metadata": {},
   "outputs": [
    {
     "data": {
      "text/plain": [
       "{'paperId': '711ea382ee4ad505cb3f9a62d97d8d5021e1832a',\n",
       " 'url': 'https://www.semanticscholar.org/paper/711ea382ee4ad505cb3f9a62d97d8d5021e1832a',\n",
       " 'title': 'Mitochondrial metabolism promotes adaptation to proteotoxic stress',\n",
       " 'abstract': None,\n",
       " 'year': 2019,\n",
       " 'citationCount': 209}"
      ]
     },
     "execution_count": 111,
     "metadata": {},
     "output_type": "execute_result"
    }
   ],
   "source": [
    "import requests\n",
    "\n",
    "# query = \"Mitochondrial metabolism promotes adaptation to proteotoxic stress\"\n",
    "id = \"10.1038/s41589-019-0291-9\"\n",
    "# query = \"FDX1 is directly targeted by Elesclomol\"\n",
    "rsp = requests.get(f\"https://api.semanticscholar.org/graph/v1/paper/DOI:{id}\",\n",
    "    headers={'X-API-KEY': API_KEY},\n",
    "    params={'fields': 'title,url,year,citationCount,abstract'})\n",
    "\n",
    "# , 'limit': 5, 'fields': 'title,url,year,citationCount,abstract'\n",
    "data = rsp.json()\n",
    "data\n",
    "# if 'data' in data:\n",
    "#     print(data)\n",
    "# else:\n",
    "#     print(\"Nothing\")\n",
    "# for paper in data['data']:\n",
    "#     print(paper['title'])"
   ]
  },
  {
   "cell_type": "code",
   "execution_count": 123,
   "metadata": {},
   "outputs": [
    {
     "data": {
      "text/plain": [
       "[{'paperId': '711ea382ee4ad505cb3f9a62d97d8d5021e1832a',\n",
       "  'externalIds': {'PubMedCentral': '8183600',\n",
       "   'MAG': '2945294912',\n",
       "   'DOI': '10.1038/s41589-019-0291-9',\n",
       "   'CorpusId': 167221506,\n",
       "   'PubMed': '31133756'},\n",
       "  'url': 'https://www.semanticscholar.org/paper/711ea382ee4ad505cb3f9a62d97d8d5021e1832a',\n",
       "  'title': 'Mitochondrial metabolism promotes adaptation to proteotoxic stress',\n",
       "  'abstract': None,\n",
       "  'year': 2019,\n",
       "  'citationCount': 209},\n",
       " {'paperId': 'd646811d27ed318903f0aee923a099b72ec2db52',\n",
       "  'externalIds': {'MAG': '3046665064',\n",
       "   'DOI': '10.1007/s10495-020-01627-z',\n",
       "   'CorpusId': 220881485,\n",
       "   'PubMed': '32737652'},\n",
       "  'url': 'https://www.semanticscholar.org/paper/d646811d27ed318903f0aee923a099b72ec2db52',\n",
       "  'title': 'BAX-dependent mitochondrial pathway mediates the crosstalk between ferroptosis and apoptosis',\n",
       "  'abstract': None,\n",
       "  'year': 2020,\n",
       "  'citationCount': 43}]"
      ]
     },
     "execution_count": 123,
     "metadata": {},
     "output_type": "execute_result"
    }
   ],
   "source": [
    "import requests\n",
    "\n",
    "# query = \"Mitochondrial metabolism promotes adaptation to proteotoxic stress\"\n",
    "id1 = \"10.1038/s41589-019-0291-9\"\n",
    "id2 = \"10.1007/s10495-020-01627-z\"\n",
    "# query = \"FDX1 is directly targeted by Elesclomol\"\n",
    "rsp = requests.post(f\"https://api.semanticscholar.org/graph/v1/paper/batch\",\n",
    "    headers={'X-API-KEY': API_KEY},\n",
    "    params={'fields': 'title,url,year,citationCount,abstract,externalIds'},\n",
    "    json={\"ids\": [f\"DOI:{id1}\", f\"DOI:{id2}\"]})\n",
    "\n",
    "# , 'limit': 5, 'fields': 'title,url,year,citationCount,abstract'\n",
    "data = rsp.json()\n",
    "data\n",
    "# if 'data' in data:\n",
    "#     print(data)\n",
    "# else:\n",
    "#     print(\"Nothing\")\n",
    "# for paper in data['data']:\n",
    "#     print(paper['title'])"
   ]
  }
 ],
 "metadata": {
  "kernelspec": {
   "display_name": "venv",
   "language": "python",
   "name": "python3"
  },
  "language_info": {
   "codemirror_mode": {
    "name": "ipython",
    "version": 3
   },
   "file_extension": ".py",
   "mimetype": "text/x-python",
   "name": "python",
   "nbconvert_exporter": "python",
   "pygments_lexer": "ipython3",
   "version": "3.7.3"
  }
 },
 "nbformat": 4,
 "nbformat_minor": 2
}
