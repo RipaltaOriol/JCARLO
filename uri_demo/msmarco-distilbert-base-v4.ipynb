{
 "cells": [
  {
   "cell_type": "code",
   "execution_count": 2,
   "metadata": {},
   "outputs": [],
   "source": [
    "# dependencies\n",
    "\n",
    "import pandas as pd\n",
    "import numpy as np\n",
    "import time\n",
    "from tqdm import tqdm\n",
    "import seaborn as sns\n",
    "from textblob import TextBlob\n",
    "import matplotlib.pyplot as plt"
   ]
  },
  {
   "cell_type": "markdown",
   "metadata": {},
   "source": [
    "## Getting Started\n",
    "1. Load dependencies\n",
    "2. Load data [here we use CSV]"
   ]
  },
  {
   "cell_type": "code",
   "execution_count": 9,
   "metadata": {},
   "outputs": [
    {
     "name": "stdout",
     "output_type": "stream",
     "text": [
      "<class 'pandas.core.frame.DataFrame'>\n",
      "RangeIndex: 551 entries, 0 to 550\n",
      "Data columns (total 41 columns):\n",
      " #   Column                Non-Null Count  Dtype  \n",
      "---  ------                --------------  -----  \n",
      " 0   item ID (Read-Only)   551 non-null    object \n",
      " 1   original ID           40 non-null     object \n",
      " 2   type                  551 non-null    object \n",
      " 3   created (Read-Only)   551 non-null    object \n",
      " 4   updated (Read-Only)   551 non-null    object \n",
      " 5   read                  551 non-null    bool   \n",
      " 6   notes                 23 non-null     object \n",
      " 7   color                 74 non-null     object \n",
      " 8   flag                  551 non-null    bool   \n",
      " 9   ratings               0 non-null      float64\n",
      " 10  doi                   532 non-null    object \n",
      " 11  patent_id             0 non-null      float64\n",
      " 12  pmid                  504 non-null    float64\n",
      " 13  pmcid                 198 non-null    object \n",
      " 14  arxiv                 1 non-null      float64\n",
      " 15  file (Read-Only)      461 non-null    object \n",
      " 16  year                  539 non-null    float64\n",
      " 17  Library URL           551 non-null    object \n",
      " 18  PDF URL               461 non-null    object \n",
      " 19  title                 551 non-null    object \n",
      " 20  author                541 non-null    object \n",
      " 21  journal               533 non-null    object \n",
      " 22  date                  48 non-null     object \n",
      " 23  tags                  65 non-null     object \n",
      " 24  journal abbreviation  505 non-null    object \n",
      " 25  issn                  466 non-null    object \n",
      " 26  abstract              506 non-null    object \n",
      " 27  issue                 451 non-null    object \n",
      " 28  volume                504 non-null    object \n",
      " 29  pages                 497 non-null    object \n",
      " 30  language              19 non-null     object \n",
      " 31  url                   24 non-null     object \n",
      " 32  source_url            18 non-null     object \n",
      " 33  editor                2 non-null      object \n",
      " 34  isbn                  2 non-null      object \n",
      " 35  library catalog       2 non-null      object \n",
      " 36  access date           1 non-null      object \n",
      " 37  series editor         0 non-null      float64\n",
      " 38  publication title     1 non-null      object \n",
      " 39  publisher             1 non-null      object \n",
      " 40  citekey               1 non-null      object \n",
      "dtypes: bool(2), float64(6), object(33)\n",
      "memory usage: 169.1+ KB\n"
     ]
    }
   ],
   "source": [
    "# load the data\n",
    "DATA_SOURCE = \"my_library.csv\"\n",
    "data = pd.read_csv(DATA_SOURCE, memory_map=True)\n",
    "data.info()"
   ]
  },
  {
   "cell_type": "markdown",
   "metadata": {},
   "source": [
    "### Problem 1\n",
    "Some articles do not have an abstract"
   ]
  },
  {
   "cell_type": "code",
   "execution_count": 6,
   "metadata": {},
   "outputs": [
    {
     "data": {
      "text/plain": [
       "0                                                    NaN\n",
       "1                                                    NaN\n",
       "2                                                    NaN\n",
       "3                                                    NaN\n",
       "4                                                    NaN\n",
       "                             ...                        \n",
       "546    Drug hunters are moving into the clinic with h...\n",
       "547    Human ALS/FTD patient iPSC-derived neurons are...\n",
       "548    Developments in computational omics technologi...\n",
       "549    With an ever-increasing amount of (meta)genomi...\n",
       "550    We have used pulse-chase labeling of Chinese h...\n",
       "Name: abstract, Length: 551, dtype: object"
      ]
     },
     "execution_count": 6,
     "metadata": {},
     "output_type": "execute_result"
    }
   ],
   "source": [
    "data[\"abstract\"]"
   ]
  },
  {
   "cell_type": "markdown",
   "metadata": {},
   "source": [
    "## Clean up\n",
    "Cleanup the data. For this demo we will only be using the title and abstract"
   ]
  },
  {
   "cell_type": "code",
   "execution_count": 10,
   "metadata": {},
   "outputs": [],
   "source": [
    "import gc\n",
    "df = data[['title','abstract']]\n",
    "del data\n",
    "gc.collect()\n",
    "\n",
    "df.dropna(inplace=True)\n",
    "df.drop_duplicates(subset=['abstract'],inplace=True)"
   ]
  },
  {
   "cell_type": "code",
   "execution_count": 14,
   "metadata": {},
   "outputs": [
    {
     "name": "stderr",
     "output_type": "stream",
     "text": [
      "/Users/uri/Desktop/Projects/JCARLO/venv/lib/python3.7/site-packages/ipykernel_launcher.py:3: UserWarning: \n",
      "\n",
      "`distplot` is a deprecated function and will be removed in seaborn v0.14.0.\n",
      "\n",
      "Please adapt your code to use either `displot` (a figure-level function with\n",
      "similar flexibility) or `histplot` (an axes-level function for histograms).\n",
      "\n",
      "For a guide to updating your code to use the new functions, please see\n",
      "https://gist.github.com/mwaskom/de44147ed2974457ad6372750bbe5751\n",
      "\n",
      "  This is separate from the ipykernel package so we can avoid doing imports until\n"
     ]
    },
    {
     "data": {
      "image/png": "[encoded data removed]",
      "text/plain": [
       "<Figure size 640x480 with 1 Axes>"
      ]
     },
     "metadata": {},
     "output_type": "display_data"
    }
   ],
   "source": [
    "df['doc_len'] = df['abstract'].apply(lambda words: len(words.split()))\n",
    "max_seq_len = np.round(df['doc_len'].mean() + df['doc_len'].std()).astype(int)\n",
    "sns.distplot(df['doc_len'], hist=True, kde=True, color='b', label='doc len')\n",
    "plt.axvline(x=max_seq_len, color='k', linestyle='--', label='max len')\n",
    "plt.title('plot length'); plt.legend()\n",
    "plt.show()"
   ]
  },
  {
   "cell_type": "markdown",
   "metadata": {},
   "source": [
    "## Chose a Model\n",
    "This is probably one of the most critical steps: chose a good model that represents the task at hand. First we he to consider between:\n",
    "1. Symmetric search\n",
    "2. Asymmetric search\n",
    "\n",
    "Because we want to search through a pool of large passages we will chose assymetric search. There are plenty of models in this group which are also tunes for different types of searches: euclidian distance, dot-plot, cosine-similiarity.\n",
    "\n",
    "**Disclosure**: I dont' understand the difference between search approaches so I will be using a trivial dot-plot search approach.\n",
    "\n",
    "**Todo**: Investigate the type of similarities (cosine, dot-plot, euclidian distance)"
   ]
  },
  {
   "cell_type": "code",
   "execution_count": 2,
   "metadata": {},
   "outputs": [],
   "source": [
    "from sentence_transformers import SentenceTransformer\n",
    "model = SentenceTransformer('msmarco-distilbert-base-v4')"
   ]
  },
  {
   "cell_type": "code",
   "execution_count": 16,
   "metadata": {},
   "outputs": [],
   "source": [
    "from tqdm.auto import tqdm\n",
    "tqdm.pandas()\n",
    "\n",
    "def get_embeddings(documents):\n",
    "    sentences  = [documents]\n",
    "    sentence_embeddings = model.encode(sentences)\n",
    "    encod_np_array = np.array(sentence_embeddings)\n",
    "    encod_list = encod_np_array.tolist()\n",
    "    return encod_list[0]"
   ]
  },
  {
   "cell_type": "code",
   "execution_count": 17,
   "metadata": {},
   "outputs": [
    {
     "data": {
      "application/vnd.jupyter.widget-view+json": {
       "model_id": "c70faa80d80d49d983fb23b93a868f40",
       "version_major": 2,
       "version_minor": 0
      },
      "text/plain": [
       "  0%|          | 0/502 [00:00<?, ?it/s]"
      ]
     },
     "metadata": {},
     "output_type": "display_data"
    }
   ],
   "source": [
    "df['vector'] = df['abstract'].progress_apply(get_embeddings)"
   ]
  },
  {
   "cell_type": "markdown",
   "metadata": {},
   "source": [
    "## Start ElasticSearch server\n",
    "There are alternatives to using the elasticsearch server. But for convenience and the purposes of this demo I'll be using a local elasticsearch server.\n",
    "\n",
    "We go ahead and start the server and establishing the connection."
   ]
  },
  {
   "cell_type": "code",
   "execution_count": 4,
   "metadata": {},
   "outputs": [
    {
     "data": {
      "text/plain": [
       "True"
      ]
     },
     "execution_count": 4,
     "metadata": {},
     "output_type": "execute_result"
    }
   ],
   "source": [
    "from elasticsearch import Elasticsearch\n",
    "\n",
    "es = Elasticsearch(\n",
    "    \"https://localhost:9200/\",\n",
    "    basic_auth=(\"elastic\", \"Z1*nfDFd1YhmgLg8w1qo\"),\n",
    "    ca_certs=\"/Users/uri/Desktop/Dev/elasticsearch-8.10.4/config/certs/http_ca.crt\"\n",
    ")\n",
    "\n",
    "es.ping()"
   ]
  },
  {
   "cell_type": "markdown",
   "metadata": {},
   "source": [
    "## Creating an index mapping for elasticsearch\n",
    "\n"
   ]
  },
  {
   "cell_type": "markdown",
   "metadata": {},
   "source": [
    "```\n",
    "index_mapping = {\n",
    "    \"properties\": {\n",
    "        \"title\": {\n",
    "            \"type\": \"text\"\n",
    "        },\n",
    "        \"abstract\": {\n",
    "            \"type\": \"text\"\n",
    "        },\n",
    "        \"doc_len\": {\n",
    "            \"type\": \"long\"\n",
    "        },\n",
    "        \"vector\": {\n",
    "            \"type\": \"dense_vector\",\n",
    "            \"dims\": 768,\n",
    "            \"index\": True,\n",
    "            \"similarity\": \"cosine\"\n",
    "        }\n",
    "    }\n",
    "}\n",
    "```"
   ]
  },
  {
   "cell_type": "code",
   "execution_count": 22,
   "metadata": {},
   "outputs": [
    {
     "data": {
      "text/plain": [
       "ObjectApiResponse({'acknowledged': True, 'shards_acknowledged': True, 'index': 'papers'})"
      ]
     },
     "execution_count": 22,
     "metadata": {},
     "output_type": "execute_result"
    }
   ],
   "source": [
    "from indeces_elastic.mapping_msmarco_distilbert_base_v4 import index_mapping\n",
    "\n",
    "es.indices.create(index=\"papers\", mappings=index_mapping)"
   ]
  },
  {
   "cell_type": "markdown",
   "metadata": {},
   "source": [
    "## Store data in ElasticSearch\n",
    "\n",
    "After creating the mapping we can the store our data in the server"
   ]
  },
  {
   "cell_type": "code",
   "execution_count": 23,
   "metadata": {},
   "outputs": [],
   "source": [
    "elk_data = df.to_dict(\"records\")\n",
    "\n",
    "for record in elk_data:\n",
    "    try:\n",
    "        es.index(index=\"papers\", document=record)\n",
    "    except Exception as e:\n",
    "        print(e)"
   ]
  },
  {
   "cell_type": "code",
   "execution_count": 24,
   "metadata": {},
   "outputs": [
    {
     "data": {
      "text/plain": [
       "ObjectApiResponse({'count': 502, '_shards': {'total': 1, 'successful': 1, 'skipped': 0, 'failed': 0}})"
      ]
     },
     "execution_count": 24,
     "metadata": {},
     "output_type": "execute_result"
    }
   ],
   "source": [
    "es.count(index=\"papers\")"
   ]
  },
  {
   "cell_type": "markdown",
   "metadata": {},
   "source": [
    "## Setup is Complete\n",
    "\n",
    "Now we just need to setup the search query and extract the results"
   ]
  },
  {
   "cell_type": "code",
   "execution_count": 5,
   "metadata": {},
   "outputs": [
    {
     "name": "stdout",
     "output_type": "stream",
     "text": [
      "{'took': 13, 'timed_out': False, '_shards': {'total': 1, 'successful': 1, 'skipped': 0, 'failed': 0}, 'hits': {'total': {'value': 500, 'relation': 'eq'}, 'max_score': 0.75682986, 'hits': [{'_index': 'papers', '_id': 'ZU7FcYsBJooCoyqGiANk', '_score': 0.75682986, '_source': {'title': 'Elesclomol induces cancer cell apoptosis through oxidative stress', 'abstract': 'Elesclomol (formerly STA-4783) is a novel small molecule undergoing clinical evaluation in a pivotal phase III melanoma trial (SYMMETRY). In a phase II randomized, double-blinded, controlled, multi-center trial in 81 patients with stage IV metastatic melanoma, treatment with elesclomol plus paclitaxel showed a statistically significant doubling of progression-free survival time compared with treatment with paclitaxel alone. Although elesclomol displays significant therapeutic activity in the clinic, the mechanism underlying its anticancer activity has not been defined previously. Here, we show that elesclomol induces apoptosis in cancer cells through the induction of oxidative stress. Treatment of cancer cells in vitro with elesclomol resulted in the rapid generation of reactive oxygen species (ROS) and the induction of a transcriptional gene profile characteristic of an oxidative stress response. Inhibition of oxidative stress by the antioxidant N-acetylcysteine blocked the induction of gene transcription by elesclomol. In addition, N-acetylcysteine blocked drug-induced apoptosis, indicating that ROS generation is the primary mechanism responsible for the proapoptotic activity of elesclomol. Excessive ROS production and elevated levels of oxidative stress are critical biochemical alterations that contribute to cancer cell growth. Thus, the induction of oxidative stress by elesclomol exploits this unique characteristic of cancer cells by increasing ROS levels beyond a threshold that triggers cell death. [Mol Cancer Ther 2008;7(8):2319–27]'}}, {'_index': 'papers', '_id': 'X07FcYsBJooCoyqGhgPp', '_score': 0.73888963, '_source': {'title': 'Elesclomol: a copper ionophore targeting mitochondrial metabolism for cancer therapy', 'abstract': \"Elesclomol is an anticancer drug that targets mitochondrial metabolism. In the past, elesclomol was recognized as an inducer of oxidative stress, but now it has also been found to suppress cancer by inducing cuproptosis. Elesclomol’s anticancer activity is determined by the dependence of cancer on mitochondrial metabolism. The mitochondrial metabolism of cancer stem cells, cancer cells resistant to platinum drugs, proteasome inhibitors, molecularly targeted drugs, and cancer cells with inhibited glycolysis was significantly enhanced. Elesclomol exhibited tremendous toxicity to all three kinds of cells. Elesclomol's toxicity to cells is highly dependent on its transport of extracellular copper ions, a process involved in cuproptosis. The discovery of cuproptosis has perfected the specific cancer suppressor mechanism of elesclomol. For some time, elesclomol failed to yield favorable results in oncology clinical trials, but its safety in clinical application was confirmed. Research progress on the relationship between elesclomol, mitochondrial metabolism and cuproptosis provides a possibility to explore the reapplication of elesclomol in the clinic. New clinical trials should selectively target cancer types with high mitochondrial metabolism and attempt to combine elesclomol with platinum, proteasome inhibitors, molecularly targeted drugs, or glycolysis inhibitors. Herein, the particular anticancer mechanism of elesclomol and its relationship with mitochondrial metabolism and cuproptosis will be presented, which may shed light on the better application of elesclomol in clinical tumor treatment.\"}}, {'_index': 'papers', '_id': 'V07FcYsBJooCoyqGhAPf', '_score': 0.7248604, '_source': {'title': 'Mitochondrial oxidative stress as a novel therapeutic target to overcome intrinsic drug resistance in melanoma cell subpopulations', 'abstract': 'Despite recent success in melanoma therapy, most patients with metastatic disease still undergo deadly progression. We have identified a novel mechanism of multidrug resistance allowing a small subpopulation of slow‐cycling melanoma cells to survive based on elevated oxidative bioenergy metabolism. In this study, we asked whether such slow‐cycling cells could be eliminated by co‐treatment with the copper‐chelator elesclomol. Elesclomol–copper complexes can cause oxidative stress by disruption of the mitochondrial respiration chain or by indirect non‐mitochondrial induction of reactive oxygen species. We have found that elesclomol effectively kills the slow‐cycling subpopulation and prevents the selective enrichment for slow‐cycling cells, which usually results after monotreatment. We hypothesize that elesclomol could overcome the multidrug resistance of slow‐cycling melanoma cells and prevent tumor repopulation in melanoma patients in future.'}}, {'_index': 'papers', '_id': 'Zk7FcYsBJooCoyqGiAOi', '_score': 0.7235894, '_source': {'title': 'The oncology drug elesclomol selectively transports copper to the mitochondria to induce oxidative stress in cancer cells', 'abstract': ' Elesclomol is an investigational drug that exerts potent anticancer activity through the elevation of reactive oxygen species (ROS) levels and is currently under clinical evaluation as a novel anticancer therapeutic. Here we report the first description of selective mitochondrial ROS induction by elesclomol in cancer cells based on the unique physicochemical properties of the compound. Elesclomol preferentially chelates copper (Cu) outside of cells and enters as elesclomol–Cu(II). The elesclomol–Cu(II) complex then rapidly and selectively transports the copper to mitochondria. In this organelle Cu(II) is reduced to Cu(I), followed by subsequent ROS generation. Upon dissociation from the complex, elesclomol is effluxed from cells and repeats shuttling elesclomol–Cu complexes from the extracellular to the intracellular compartments, leading to continued copper accumulation within mitochondria. An optimal range of redox potentials exhibited by copper chelates of elesclomol and its analogs correlated with the elevation of mitochondrial Cu(I) levels and cytotoxic activity, suggesting that redox reduction of the copper triggers mitochondrial ROS induction. Importantly the mitochondrial selectivity exhibited by elesclomol is a distinct characteristic of the compound that is not shared by other chelators, including disulfiram. Together these findings highlight a unique mechanism of action with important implications for cancer therapy.'}}, {'_index': 'papers', '_id': 'QU7FcYsBJooCoyqGfwNu', '_score': 0.72207093, '_source': {'title': 'Humans possess two mitochondrial ferredoxins, Fdx1 and Fdx2, with distinct roles in steroidogenesis, heme, and Fe/S cluster biosynthesis', 'abstract': 'Mammalian adrenodoxin (ferredoxin 1; Fdx1) is essential for the synthesis of various steroid hormones in adrenal glands. As a member of the [2Fe-2S] cluster-containing ferredoxin family, Fdx1 reduces mitochondrial cytochrome P450 enzymes, which then catalyze; e.g., the conversion of cholesterol to pregnenolone, aldosterone, and cortisol. The high protein sequence similarity between Fdx1 and its yeast adrenodoxin homologue (Yah1) suggested that Fdx1, like Yah1, may be involved in the biosynthesis of heme A and Fe/S clusters, two versatile and essential protein cofactors. Our study, employing RNAi technology to deplete human Fdx1, did not confirm this expectation. Instead, we identified a Fdx1-related mitochondrial protein, designated ferredoxin 2 (Fdx2) and found it to be essential for heme A and Fe/S protein biosynthesis. Unlike Fdx1, Fdx2 was unable to efficiently reduce mitochondrial cytochromes P450 and convert steroids, indicating that the two ferredoxin isoforms are highly specific for their substrates in distinct biochemical pathways. Moreover, Fdx2 deficiency had a severe impact, via impaired Fe/S protein biogenesis, on cellular iron homeostasis, leading to increased cellular iron uptake and iron accumulation in mitochondria. We conclude that mammals depend on two distinct mitochondrial ferredoxins for the specific production of either steroid hormones or heme A and Fe/S proteins.'}}]}}\n",
      "Title: Elesclomol induces cancer cell apoptosis through oxidative stress\n",
      "\n",
      "\n",
      "Title: Elesclomol: a copper ionophore targeting mitochondrial metabolism for cancer therapy\n",
      "\n",
      "\n",
      "Title: Mitochondrial oxidative stress as a novel therapeutic target to overcome intrinsic drug resistance in melanoma cell subpopulations\n",
      "\n",
      "\n",
      "Title: The oncology drug elesclomol selectively transports copper to the mitochondria to induce oxidative stress in cancer cells\n",
      "\n",
      "\n",
      "Title: Humans possess two mitochondrial ferredoxins, Fdx1 and Fdx2, with distinct roles in steroidogenesis, heme, and Fe/S cluster biosynthesis\n",
      "\n",
      "\n"
     ]
    },
    {
     "name": "stderr",
     "output_type": "stream",
     "text": [
      "/Users/uri/Desktop/Projects/JCARLO/venv/lib/python3.7/site-packages/ipykernel_launcher.py:11: ElasticsearchWarning: The kNN search API has been replaced by the `knn` option in the search API.\n",
      "  # This is added back by InteractiveShellApp.init_path()\n"
     ]
    }
   ],
   "source": [
    "input_kw = \"FDX1 is directly targeted by Elesclomol\"\n",
    "input_embedding = model.encode(input_kw)\n",
    "\n",
    "query = {\n",
    "    \"field\": \"vector\",\n",
    "    \"query_vector\": input_embedding,\n",
    "    \"k\": 5,\n",
    "    \"num_candidates\": 500\n",
    "}\n",
    "\n",
    "res = es.knn_search(index=\"papers\", knn=query, source=[\"title\", \"abstract\"])\n",
    "res[\"hits\"]['hits']\n",
    "\n",
    "print(res)\n",
    "\n",
    "reference = [target['_source']  for target in res['hits']['hits']] \n",
    "\n",
    "for ref in reference:\n",
    "    print(\"Title:\", ref['title'])\n",
    "    print(\"\\n\")\n"
   ]
  },
  {
   "cell_type": "markdown",
   "metadata": {},
   "source": [
    "### Improvements\n",
    "1. Launch the ElasticSearch server from Docker"
   ]
  }
 ],
 "metadata": {
  "kernelspec": {
   "display_name": "venv",
   "language": "python",
   "name": "python3"
  },
  "language_info": {
   "codemirror_mode": {
    "name": "ipython",
    "version": 3
   },
   "file_extension": ".py",
   "mimetype": "text/x-python",
   "name": "python",
   "nbconvert_exporter": "python",
   "pygments_lexer": "ipython3",
   "version": "3.7.3"
  }
 },
 "nbformat": 4,
 "nbformat_minor": 2
}
