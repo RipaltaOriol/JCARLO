{
 "cells": [
  {
   "cell_type": "code",
   "execution_count": 1,
   "metadata": {},
   "outputs": [],
   "source": [
    "import pandas as pd\n",
    "import numpy as np\n",
    "import time\n",
    "from tqdm import tqdm\n",
    "import seaborn as sns\n",
    "from textblob import TextBlob\n",
    "import matplotlib.pyplot as plt\n",
    "from sentence_transformers import SentenceTransformer\n",
    "model = SentenceTransformer('msmarco-distilbert-base-dot-prod-v3')"
   ]
  },
  {
   "cell_type": "markdown",
   "metadata": {},
   "source": [
    "# Embeddings to search movies\n",
    "For simplicity it this code will search by movie plots given a query that described this plot"
   ]
  },
  {
   "cell_type": "code",
   "execution_count": 2,
   "metadata": {},
   "outputs": [
    {
     "name": "stdout",
     "output_type": "stream",
     "text": [
      "<class 'pandas.core.frame.DataFrame'>\n",
      "RangeIndex: 34886 entries, 0 to 34885\n",
      "Data columns (total 8 columns):\n",
      " #   Column            Non-Null Count  Dtype \n",
      "---  ------            --------------  ----- \n",
      " 0   Release Year      34886 non-null  int64 \n",
      " 1   Title             34886 non-null  object\n",
      " 2   Origin/Ethnicity  34886 non-null  object\n",
      " 3   Director          34886 non-null  object\n",
      " 4   Cast              33464 non-null  object\n",
      " 5   Genre             34886 non-null  object\n",
      " 6   Wiki Page         34886 non-null  object\n",
      " 7   Plot              34886 non-null  object\n",
      "dtypes: int64(1), object(7)\n",
      "memory usage: 2.1+ MB\n"
     ]
    }
   ],
   "source": [
    "data_source = \"wiki_movie_plots_deduped.csv\"\n",
    "data = pd.read_csv('wiki_movie_plots_deduped.csv',memory_map=True)\n",
    "data.info()"
   ]
  },
  {
   "cell_type": "code",
   "execution_count": 3,
   "metadata": {},
   "outputs": [],
   "source": [
    "# TODO: what's GC?\n",
    "import gc\n",
    "df = data[['Title','Plot']]\n",
    "del data\n",
    "gc.collect()\n",
    "\n",
    "df.dropna(inplace=True)\n",
    "df.drop_duplicates(subset=['Plot'],inplace=True)"
   ]
  },
  {
   "cell_type": "code",
   "execution_count": 4,
   "metadata": {},
   "outputs": [
    {
     "name": "stderr",
     "output_type": "stream",
     "text": [
      "/Users/uri/Desktop/Projects/JCARLO/venv/lib/python3.7/site-packages/ipykernel_launcher.py:4: UserWarning: \n",
      "\n",
      "`distplot` is a deprecated function and will be removed in seaborn v0.14.0.\n",
      "\n",
      "Please adapt your code to use either `displot` (a figure-level function with\n",
      "similar flexibility) or `histplot` (an axes-level function for histograms).\n",
      "\n",
      "For a guide to updating your code to use the new functions, please see\n",
      "https://gist.github.com/mwaskom/de44147ed2974457ad6372750bbe5751\n",
      "\n",
      "  after removing the cwd from sys.path.\n"
     ]
    },
    {
     "data": {
      "image/png": "[encoded data removed]",
      "text/plain": [
       "<Figure size 640x480 with 1 Axes>"
      ]
     },
     "metadata": {},
     "output_type": "display_data"
    }
   ],
   "source": [
    "# TODO: it would be interesting to analyse this plot\n",
    "df['doc_len'] = df['Plot'].apply(lambda words: len(words.split()))\n",
    "max_seq_len = np.round(df['doc_len'].mean() + df['doc_len'].std()).astype(int)\n",
    "sns.distplot(df['doc_len'], hist=True, kde=True, color='b', label='doc len')\n",
    "plt.axvline(x=max_seq_len, color='k', linestyle='--', label='max len')\n",
    "plt.title('plot length'); plt.legend()\n",
    "plt.show()"
   ]
  },
  {
   "cell_type": "code",
   "execution_count": 6,
   "metadata": {},
   "outputs": [],
   "source": [
    "# import the model you want to be use\n",
    "# from sentence_transformers import SentenceTransformer\n",
    "# model = SentenceTransformer('msmarco-distilbert-base-dot-prod-v3')\n",
    "\n",
    "# store embeddings index\n",
    "\n",
    "df_short = df[0: 100]\n",
    "\n",
    "import faiss\n",
    "encoded_data = model.encode(df_short.Plot.tolist())\n",
    "encoded_data = np.asarray(encoded_data.astype('float32'))\n",
    "index = faiss.IndexIDMap(faiss.IndexFlatIP(768))\n",
    "index.add_with_ids(encoded_data, np.array(range(0, len(df_short))))\n",
    "faiss.write_index(index, 'movie_plot.index')"
   ]
  },
  {
   "cell_type": "markdown",
   "metadata": {},
   "source": [
    "## Problem w/ FAISS\n",
    "Theoretically 'faiss' should be installed with 'faiss-gpu' but it did not work for me. Somehow the system was not able to detect 'swig' even thought it's even installed inside the 'venv'. To overcome this issue I used to version for 'faiss-cpu' which is not ideal."
   ]
  },
  {
   "cell_type": "markdown",
   "metadata": {},
   "source": [
    "## Problem with urlib3\n",
    "For some reason the latest version is not compatible with OpenSSL therefore one has to downgrade to a version earlier to 2.0. Follow the following commands (this steps can be avoided using requirements.txt):\n",
    "\n",
    "pip uninstall urllib3\n",
    "pip install 'urllib3<2.0'"
   ]
  },
  {
   "cell_type": "code",
   "execution_count": null,
   "metadata": {},
   "outputs": [],
   "source": [
    "# HELPER FUNCTIONS\n",
    "\n",
    "# fetch movies from FAISS directory\n",
    "def fetch_movie_info(dataframe_idx):\n",
    "    info = df.iloc[dataframe_idx]\n",
    "    meta_dict = dict()\n",
    "    meta_dict['Title'] = info['Title']\n",
    "    meta_dict['Plot'] = info['Plot'][:500]\n",
    "    return meta_dict\n",
    "\n",
    "# encodes user query\n",
    "def search(query, top_k, index, model):\n",
    "    t=time.time()\n",
    "    query_vector = model.encode([query])\n",
    "    top_k = index.search(query_vector, top_k)\n",
    "    print('>>>> Results in Total Time: {}'.format(time.time()-t))\n",
    "    top_k_ids = top_k[1].tolist()[0]\n",
    "    top_k_ids = list(np.unique(top_k_ids))\n",
    "    results =  [fetch_movie_info(idx) for idx in top_k_ids]\n",
    "    return results"
   ]
  },
  {
   "cell_type": "code",
   "execution_count": null,
   "metadata": {},
   "outputs": [],
   "source": []
  },
  {
   "cell_type": "markdown",
   "metadata": {},
   "source": []
  }
 ],
 "metadata": {
  "kernelspec": {
   "display_name": "Python 3 (ipykernel)",
   "language": "python",
   "name": "python3"
  },
  "language_info": {
   "codemirror_mode": {
    "name": "ipython",
    "version": 3
   },
   "file_extension": ".py",
   "mimetype": "text/x-python",
   "name": "python",
   "nbconvert_exporter": "python",
   "pygments_lexer": "ipython3",
   "version": "3.7.3"
  }
 },
 "nbformat": 4,
 "nbformat_minor": 2
}
