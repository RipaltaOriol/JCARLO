{
 "cells": [
  {
   "cell_type": "code",
   "execution_count": 22,
   "metadata": {},
   "outputs": [],
   "source": [
    "import pandas as pd\n",
    "import numpy as np\n",
    "import time\n",
    "from tqdm import tqdm\n",
    "import seaborn as sns\n",
    "from textblob import TextBlob\n",
    "import matplotlib.pyplot as plt\n",
    "from sentence_transformers import SentenceTransformer\n",
    "model = SentenceTransformer('msmarco-distilbert-base-dot-prod-v3')"
   ]
  },
  {
   "cell_type": "markdown",
   "metadata": {},
   "source": [
    "✅ Elasticsearch security features have been automatically configured!\n",
    "✅ Authentication is enabled and cluster connections are encrypted.\n",
    "\n",
    "ℹ️  Password for the elastic user (reset with `bin/elasticsearch-reset-password -u elastic`):\n",
    "  PS3sL=z_eXnb0Nf7No5c\n",
    "\n",
    "ℹ️  HTTP CA certificate SHA-256 fingerprint:\n",
    "  f47cade795587ed56e7ad87c37b32db53b4f61941fdb3ea4a27f58c09a00657a\n",
    "\n",
    "ℹ️  Configure Kibana to use this cluster:\n",
    "• Run Kibana and click the configuration link in the terminal when Kibana starts.\n",
    "• Copy the following enrollment token and paste it into Kibana in your browser (valid for the next 30 minutes):\n",
    "  eyJ2ZXIiOiI4LjEwLjQiLCJhZHIiOlsiMTcyLjIxLjAuMjo5MjAwIl0sImZnciI6ImY0N2NhZGU3OTU1ODdlZDU2ZTdhZDg3YzM3YjMyZGI1M2I0ZjYxOTQxZmRiM2VhNGEyN2Y1OGMwOWEwMDY1N2EiLCJrZXkiOiJSRTRLYm9zQnVTLWlLdVBUSThqUDpsLXBsdlduV1FIcWFoNjRvSVFiUHV3In0=\n",
    "\n",
    "ℹ️ Configure other nodes to join this cluster:\n",
    "• Copy the following enrollment token and start new Elasticsearch nodes with `bin/elasticsearch --enrollment-token <token>` (valid for the next 30 minutes):\n",
    "  eyJ2ZXIiOiI4LjEwLjQiLCJhZHIiOlsiMTcyLjIxLjAuMjo5MjAwIl0sImZnciI6ImY0N2NhZGU3OTU1ODdlZDU2ZTdhZDg3YzM3YjMyZGI1M2I0ZjYxOTQxZmRiM2VhNGEyN2Y1OGMwOWEwMDY1N2EiLCJrZXkiOiJSVTRLYm9zQnVTLWlLdVBUSThqUTo5VzltdVAyUVQ2T2gwLS05cjdrS3VBIn0=\n",
    "\n",
    "  If you're running in Docker, copy the enrollment token and run:\n",
    "  `docker run -e \"ENROLLMENT_TOKEN=<token>\" docker.elastic.co/elasticsearch/elasticsearch:8.10.4`\n",
    "\n",
    "  -----------\n",
    "\n",
    "\n",
    "✅ Elasticsearch security features have been automatically configured!\n",
    "✅ Authentication is enabled and cluster connections are encrypted.\n",
    "\n",
    "ℹ️  Password for the elastic user (reset with `bin/elasticsearch-reset-password -u elastic`):\n",
    "  Z1*nfDFd1YhmgLg8w1qo\n",
    "\n",
    "ℹ️  HTTP CA certificate SHA-256 fingerprint:\n",
    "  db678cfd53660e900ad56aa2c0a126ac5ec9b075125ee4a6d94c312ed7687033\n",
    "\n",
    "ℹ️  Configure Kibana to use this cluster:\n",
    "• Run Kibana and click the configuration link in the terminal when Kibana starts.\n",
    "• Copy the following enrollment token and paste it into Kibana in your browser (valid for the next 30 minutes):\n",
    "  eyJ2ZXIiOiI4LjEwLjQiLCJhZHIiOlsiMTkyLjE2OC4xLjM6OTIwMCJdLCJmZ3IiOiJkYjY3OGNmZDUzNjYwZTkwMGFkNTZhYTJjMGExMjZhYzVlYzliMDc1MTI1ZWU0YTZkOTRjMzEyZWQ3Njg3MDMzIiwia2V5IjoiM1AwWmJvc0JSRTZVcGluT0FWUGQ6RXNYY24wcHpSX202TmdCM2FNaE01USJ9\n",
    "\n",
    "ℹ️  Configure other nodes to join this cluster:\n",
    "• On this node:\n",
    "  ⁃ Create an enrollment token with `bin/elasticsearch-create-enrollment-token -s node`.\n",
    "  ⁃ Uncomment the transport.host setting at the end of config/elasticsearch.yml.\n",
    "  ⁃ Restart Elasticsearch.\n",
    "• On other nodes:\n",
    "  ⁃ Start Elasticsearch with `bin/elasticsearch --enrollment-token <token>`, using the enrollment token that you generated."
   ]
  },
  {
   "cell_type": "markdown",
   "metadata": {},
   "source": [
    "# Embeddings to search movies\n",
    "For simplicity it this code will search by movie plots given a query that described this plot"
   ]
  },
  {
   "cell_type": "code",
   "execution_count": 1,
   "metadata": {},
   "outputs": [
    {
     "data": {
      "text/plain": [
       "True"
      ]
     },
     "execution_count": 1,
     "metadata": {},
     "output_type": "execute_result"
    }
   ],
   "source": [
    "from elasticsearch import Elasticsearch\n",
    "\n",
    "es = Elasticsearch(\n",
    "    \"https://localhost:9200/\",\n",
    "    basic_auth=(\"elastic\", \"Z1*nfDFd1YhmgLg8w1qo\"),\n",
    "    ca_certs=\"/Users/uri/Desktop/Dev/elasticsearch-8.10.4/config/certs/http_ca.crt\"\n",
    ")\n",
    "\n",
    "es.ping()"
   ]
  },
  {
   "cell_type": "code",
   "execution_count": 13,
   "metadata": {},
   "outputs": [
    {
     "name": "stderr",
     "output_type": "stream",
     "text": [
      "/Users/uri/Desktop/Projects/JCARLO/venv/lib/python3.7/site-packages/ipykernel_launcher.py:2: ElasticsearchWarning: this request accesses system indices: [.security-7], but in a future major version, direct access to system indices will be prevented by default\n",
      "  \n"
     ]
    },
    {
     "data": {
      "text/plain": [
       "['papers-dot-v5', '.security-7', 'movies8', 'papers']"
      ]
     },
     "execution_count": 13,
     "metadata": {},
     "output_type": "execute_result"
    }
   ],
   "source": [
    "# es.options(ignore_status=[400,404]).indices.delete(index='movies7')\n",
    "list(es.indices.get_alias(index=\"*\"))"
   ]
  },
  {
   "cell_type": "code",
   "execution_count": 24,
   "metadata": {},
   "outputs": [
    {
     "name": "stdout",
     "output_type": "stream",
     "text": [
      "<class 'pandas.core.frame.DataFrame'>\n",
      "RangeIndex: 34886 entries, 0 to 34885\n",
      "Data columns (total 8 columns):\n",
      " #   Column            Non-Null Count  Dtype \n",
      "---  ------            --------------  ----- \n",
      " 0   Release Year      34886 non-null  int64 \n",
      " 1   Title             34886 non-null  object\n",
      " 2   Origin/Ethnicity  34886 non-null  object\n",
      " 3   Director          34886 non-null  object\n",
      " 4   Cast              33464 non-null  object\n",
      " 5   Genre             34886 non-null  object\n",
      " 6   Wiki Page         34886 non-null  object\n",
      " 7   Plot              34886 non-null  object\n",
      "dtypes: int64(1), object(7)\n",
      "memory usage: 2.1+ MB\n"
     ]
    }
   ],
   "source": [
    "data_source = \"wiki_movie_plots_deduped.csv\"\n",
    "data = pd.read_csv('wiki_movie_plots_deduped.csv',memory_map=True)\n",
    "data.info()"
   ]
  },
  {
   "cell_type": "code",
   "execution_count": 25,
   "metadata": {},
   "outputs": [],
   "source": [
    "import json\n",
    "import os\n",
    "import uuid\n",
    "\n",
    "\n",
    "from sentence_transformers import util\n",
    "model = SentenceTransformer('all-MiniLM-L6-v2')\n",
    "\n",
    "import elasticsearch\n",
    "from elasticsearch import Elasticsearch\n",
    "from elasticsearch import helpers\n",
    "\n",
    "from tqdm.auto import tqdm\n",
    "tqdm.pandas()"
   ]
  },
  {
   "cell_type": "code",
   "execution_count": 26,
   "metadata": {},
   "outputs": [],
   "source": [
    "# Sample Class to convert sentences into tokens\n",
    "\n",
    "class Tokenizer(object):\n",
    "    def __init__(self):\n",
    "        self.model = SentenceTransformer('all-MiniLM-L6-v2')\n",
    "\n",
    "    def get_token(self, documents):\n",
    "        sentences  = [documents]\n",
    "        sentence_embeddings = self.model.encode(sentences)\n",
    "        encod_np_array = np.array(sentence_embeddings)\n",
    "        encod_list = encod_np_array.tolist()\n",
    "        return encod_list[0]"
   ]
  },
  {
   "cell_type": "code",
   "execution_count": 27,
   "metadata": {},
   "outputs": [],
   "source": [
    "token_instance = Tokenizer()"
   ]
  },
  {
   "cell_type": "code",
   "execution_count": 28,
   "metadata": {},
   "outputs": [
    {
     "data": {
      "text/html": [
       "<div>\n",
       "<style scoped>\n",
       "    .dataframe tbody tr th:only-of-type {\n",
       "        vertical-align: middle;\n",
       "    }\n",
       "\n",
       "    .dataframe tbody tr th {\n",
       "        vertical-align: top;\n",
       "    }\n",
       "\n",
       "    .dataframe thead th {\n",
       "        text-align: right;\n",
       "    }\n",
       "</style>\n",
       "<table border=\"1\" class=\"dataframe\">\n",
       "  <thead>\n",
       "    <tr style=\"text-align: right;\">\n",
       "      <th></th>\n",
       "      <th>Release Year</th>\n",
       "      <th>Title</th>\n",
       "      <th>Origin/Ethnicity</th>\n",
       "      <th>Director</th>\n",
       "      <th>Cast</th>\n",
       "      <th>Genre</th>\n",
       "      <th>Wiki Page</th>\n",
       "      <th>Plot</th>\n",
       "    </tr>\n",
       "  </thead>\n",
       "  <tbody>\n",
       "    <tr>\n",
       "      <th>0</th>\n",
       "      <td>1901</td>\n",
       "      <td>Kansas Saloon Smashers</td>\n",
       "      <td>American</td>\n",
       "      <td>Unknown</td>\n",
       "      <td>NaN</td>\n",
       "      <td>unknown</td>\n",
       "      <td>https://en.wikipedia.org/wiki/Kansas_Saloon_Sm...</td>\n",
       "      <td>A bartender is working at a saloon, serving dr...</td>\n",
       "    </tr>\n",
       "    <tr>\n",
       "      <th>1</th>\n",
       "      <td>1901</td>\n",
       "      <td>Love by the Light of the Moon</td>\n",
       "      <td>American</td>\n",
       "      <td>Unknown</td>\n",
       "      <td>NaN</td>\n",
       "      <td>unknown</td>\n",
       "      <td>https://en.wikipedia.org/wiki/Love_by_the_Ligh...</td>\n",
       "      <td>The moon, painted with a smiling face hangs ov...</td>\n",
       "    </tr>\n",
       "    <tr>\n",
       "      <th>2</th>\n",
       "      <td>1901</td>\n",
       "      <td>The Martyred Presidents</td>\n",
       "      <td>American</td>\n",
       "      <td>Unknown</td>\n",
       "      <td>NaN</td>\n",
       "      <td>unknown</td>\n",
       "      <td>https://en.wikipedia.org/wiki/The_Martyred_Pre...</td>\n",
       "      <td>The film, just over a minute long, is composed...</td>\n",
       "    </tr>\n",
       "    <tr>\n",
       "      <th>3</th>\n",
       "      <td>1901</td>\n",
       "      <td>Terrible Teddy, the Grizzly King</td>\n",
       "      <td>American</td>\n",
       "      <td>Unknown</td>\n",
       "      <td>NaN</td>\n",
       "      <td>unknown</td>\n",
       "      <td>https://en.wikipedia.org/wiki/Terrible_Teddy,_...</td>\n",
       "      <td>Lasting just 61 seconds and consisting of two ...</td>\n",
       "    </tr>\n",
       "    <tr>\n",
       "      <th>4</th>\n",
       "      <td>1902</td>\n",
       "      <td>Jack and the Beanstalk</td>\n",
       "      <td>American</td>\n",
       "      <td>George S. Fleming, Edwin S. Porter</td>\n",
       "      <td>NaN</td>\n",
       "      <td>unknown</td>\n",
       "      <td>https://en.wikipedia.org/wiki/Jack_and_the_Bea...</td>\n",
       "      <td>The earliest known adaptation of the classic f...</td>\n",
       "    </tr>\n",
       "  </tbody>\n",
       "</table>\n",
       "</div>"
      ],
      "text/plain": [
       "   Release Year                             Title Origin/Ethnicity  \\\n",
       "0          1901            Kansas Saloon Smashers         American   \n",
       "1          1901     Love by the Light of the Moon         American   \n",
       "2          1901           The Martyred Presidents         American   \n",
       "3          1901  Terrible Teddy, the Grizzly King         American   \n",
       "4          1902            Jack and the Beanstalk         American   \n",
       "\n",
       "                             Director Cast    Genre  \\\n",
       "0                             Unknown  NaN  unknown   \n",
       "1                             Unknown  NaN  unknown   \n",
       "2                             Unknown  NaN  unknown   \n",
       "3                             Unknown  NaN  unknown   \n",
       "4  George S. Fleming, Edwin S. Porter  NaN  unknown   \n",
       "\n",
       "                                           Wiki Page  \\\n",
       "0  https://en.wikipedia.org/wiki/Kansas_Saloon_Sm...   \n",
       "1  https://en.wikipedia.org/wiki/Love_by_the_Ligh...   \n",
       "2  https://en.wikipedia.org/wiki/The_Martyred_Pre...   \n",
       "3  https://en.wikipedia.org/wiki/Terrible_Teddy,_...   \n",
       "4  https://en.wikipedia.org/wiki/Jack_and_the_Bea...   \n",
       "\n",
       "                                                Plot  \n",
       "0  A bartender is working at a saloon, serving dr...  \n",
       "1  The moon, painted with a smiling face hangs ov...  \n",
       "2  The film, just over a minute long, is composed...  \n",
       "3  Lasting just 61 seconds and consisting of two ...  \n",
       "4  The earliest known adaptation of the classic f...  "
      ]
     },
     "execution_count": 28,
     "metadata": {},
     "output_type": "execute_result"
    }
   ],
   "source": [
    "df = data.head(5000)\n",
    "df = df.dropna(how='all')\n",
    "df.head()"
   ]
  },
  {
   "cell_type": "code",
   "execution_count": 29,
   "metadata": {},
   "outputs": [
    {
     "data": {
      "application/vnd.jupyter.widget-view+json": {
       "model_id": "6eee8429913a4ca18952e27392de78b0",
       "version_major": 2,
       "version_minor": 0
      },
      "text/plain": [
       "  0%|          | 0/5000 [00:00<?, ?it/s]"
      ]
     },
     "metadata": {},
     "output_type": "display_data"
    },
    {
     "data": {
      "text/html": [
       "<div>\n",
       "<style scoped>\n",
       "    .dataframe tbody tr th:only-of-type {\n",
       "        vertical-align: middle;\n",
       "    }\n",
       "\n",
       "    .dataframe tbody tr th {\n",
       "        vertical-align: top;\n",
       "    }\n",
       "\n",
       "    .dataframe thead th {\n",
       "        text-align: right;\n",
       "    }\n",
       "</style>\n",
       "<table border=\"1\" class=\"dataframe\">\n",
       "  <thead>\n",
       "    <tr style=\"text-align: right;\">\n",
       "      <th></th>\n",
       "      <th>Release Year</th>\n",
       "      <th>Title</th>\n",
       "      <th>Origin/Ethnicity</th>\n",
       "      <th>Director</th>\n",
       "      <th>Cast</th>\n",
       "      <th>Genre</th>\n",
       "      <th>Wiki Page</th>\n",
       "      <th>Plot</th>\n",
       "      <th>vector</th>\n",
       "    </tr>\n",
       "  </thead>\n",
       "  <tbody>\n",
       "    <tr>\n",
       "      <th>0</th>\n",
       "      <td>1901</td>\n",
       "      <td>Kansas Saloon Smashers</td>\n",
       "      <td>American</td>\n",
       "      <td>Unknown</td>\n",
       "      <td>NaN</td>\n",
       "      <td>unknown</td>\n",
       "      <td>https://en.wikipedia.org/wiki/Kansas_Saloon_Sm...</td>\n",
       "      <td>A bartender is working at a saloon, serving dr...</td>\n",
       "      <td>[0.0013572074240073562, 0.02601538598537445, -...</td>\n",
       "    </tr>\n",
       "    <tr>\n",
       "      <th>1</th>\n",
       "      <td>1901</td>\n",
       "      <td>Love by the Light of the Moon</td>\n",
       "      <td>American</td>\n",
       "      <td>Unknown</td>\n",
       "      <td>NaN</td>\n",
       "      <td>unknown</td>\n",
       "      <td>https://en.wikipedia.org/wiki/Love_by_the_Ligh...</td>\n",
       "      <td>The moon, painted with a smiling face hangs ov...</td>\n",
       "      <td>[0.011549506336450577, 0.07491020858287811, 0....</td>\n",
       "    </tr>\n",
       "    <tr>\n",
       "      <th>2</th>\n",
       "      <td>1901</td>\n",
       "      <td>The Martyred Presidents</td>\n",
       "      <td>American</td>\n",
       "      <td>Unknown</td>\n",
       "      <td>NaN</td>\n",
       "      <td>unknown</td>\n",
       "      <td>https://en.wikipedia.org/wiki/The_Martyred_Pre...</td>\n",
       "      <td>The film, just over a minute long, is composed...</td>\n",
       "      <td>[-0.019372588023543358, 0.04275880008935928, -...</td>\n",
       "    </tr>\n",
       "    <tr>\n",
       "      <th>3</th>\n",
       "      <td>1901</td>\n",
       "      <td>Terrible Teddy, the Grizzly King</td>\n",
       "      <td>American</td>\n",
       "      <td>Unknown</td>\n",
       "      <td>NaN</td>\n",
       "      <td>unknown</td>\n",
       "      <td>https://en.wikipedia.org/wiki/Terrible_Teddy,_...</td>\n",
       "      <td>Lasting just 61 seconds and consisting of two ...</td>\n",
       "      <td>[0.018185129389166832, 0.022814441472291946, 0...</td>\n",
       "    </tr>\n",
       "    <tr>\n",
       "      <th>4</th>\n",
       "      <td>1902</td>\n",
       "      <td>Jack and the Beanstalk</td>\n",
       "      <td>American</td>\n",
       "      <td>George S. Fleming, Edwin S. Porter</td>\n",
       "      <td>NaN</td>\n",
       "      <td>unknown</td>\n",
       "      <td>https://en.wikipedia.org/wiki/Jack_and_the_Bea...</td>\n",
       "      <td>The earliest known adaptation of the classic f...</td>\n",
       "      <td>[-0.036266930401325226, -0.0118786059319973, 0...</td>\n",
       "    </tr>\n",
       "  </tbody>\n",
       "</table>\n",
       "</div>"
      ],
      "text/plain": [
       "   Release Year                             Title Origin/Ethnicity  \\\n",
       "0          1901            Kansas Saloon Smashers         American   \n",
       "1          1901     Love by the Light of the Moon         American   \n",
       "2          1901           The Martyred Presidents         American   \n",
       "3          1901  Terrible Teddy, the Grizzly King         American   \n",
       "4          1902            Jack and the Beanstalk         American   \n",
       "\n",
       "                             Director Cast    Genre  \\\n",
       "0                             Unknown  NaN  unknown   \n",
       "1                             Unknown  NaN  unknown   \n",
       "2                             Unknown  NaN  unknown   \n",
       "3                             Unknown  NaN  unknown   \n",
       "4  George S. Fleming, Edwin S. Porter  NaN  unknown   \n",
       "\n",
       "                                           Wiki Page  \\\n",
       "0  https://en.wikipedia.org/wiki/Kansas_Saloon_Sm...   \n",
       "1  https://en.wikipedia.org/wiki/Love_by_the_Ligh...   \n",
       "2  https://en.wikipedia.org/wiki/The_Martyred_Pre...   \n",
       "3  https://en.wikipedia.org/wiki/Terrible_Teddy,_...   \n",
       "4  https://en.wikipedia.org/wiki/Jack_and_the_Bea...   \n",
       "\n",
       "                                                Plot  \\\n",
       "0  A bartender is working at a saloon, serving dr...   \n",
       "1  The moon, painted with a smiling face hangs ov...   \n",
       "2  The film, just over a minute long, is composed...   \n",
       "3  Lasting just 61 seconds and consisting of two ...   \n",
       "4  The earliest known adaptation of the classic f...   \n",
       "\n",
       "                                              vector  \n",
       "0  [0.0013572074240073562, 0.02601538598537445, -...  \n",
       "1  [0.011549506336450577, 0.07491020858287811, 0....  \n",
       "2  [-0.019372588023543358, 0.04275880008935928, -...  \n",
       "3  [0.018185129389166832, 0.022814441472291946, 0...  \n",
       "4  [-0.036266930401325226, -0.0118786059319973, 0...  "
      ]
     },
     "execution_count": 29,
     "metadata": {},
     "output_type": "execute_result"
    }
   ],
   "source": [
    "df['vector'] = df['Plot'].progress_apply(token_instance.get_token)\n",
    "df.head()"
   ]
  },
  {
   "cell_type": "code",
   "execution_count": 71,
   "metadata": {},
   "outputs": [
    {
     "name": "stdout",
     "output_type": "stream",
     "text": [
      "{'properties': {'Release Year': {'type': 'long'}, 'Title': {'type': 'text'}, 'Origin/Ethnicity': {'type': 'text'}, 'Director': {'type': 'text'}, 'Genre': {'type': 'text'}, 'Wiki Page': {'type': 'text'}, 'Plot': {'type': 'text'}, 'vector': {'type': 'dense_vector', 'dims': 384, 'index': True, 'similarity': 'l2_norm'}}}\n"
     ]
    },
    {
     "data": {
      "text/plain": [
       "ObjectApiResponse({'acknowledged': True, 'shards_acknowledged': True, 'index': 'movies8'})"
      ]
     },
     "execution_count": 71,
     "metadata": {},
     "output_type": "execute_result"
    }
   ],
   "source": [
    "from idx_map import index_mapping\n",
    "print(index_mapping)\n",
    "es.indices.create(index=\"movies8\", mappings=index_mapping)"
   ]
  },
  {
   "cell_type": "code",
   "execution_count": 72,
   "metadata": {},
   "outputs": [],
   "source": [
    "df.drop(columns=['Cast'], inplace=True, errors=\"ignore\")\n",
    "elk_data = df.to_dict(\"records\")\n",
    "\n",
    "for record in elk_data:\n",
    "    try:\n",
    "        es.index(index=\"movies8\", document=record)\n",
    "    except Exception as e:\n",
    "        print(e)"
   ]
  },
  {
   "cell_type": "code",
   "execution_count": 73,
   "metadata": {},
   "outputs": [
    {
     "data": {
      "text/plain": [
       "ObjectApiResponse({'count': 5000, '_shards': {'total': 1, 'successful': 1, 'skipped': 0, 'failed': 0}})"
      ]
     },
     "execution_count": 73,
     "metadata": {},
     "output_type": "execute_result"
    }
   ],
   "source": [
    "es.count(index=\"movies8\")"
   ]
  },
  {
   "cell_type": "code",
   "execution_count": 82,
   "metadata": {},
   "outputs": [
    {
     "name": "stderr",
     "output_type": "stream",
     "text": [
      "/Users/uri/Desktop/Projects/JCARLO/venv/lib/python3.7/site-packages/ipykernel_launcher.py:11: ElasticsearchWarning: The kNN search API has been replaced by the `knn` option in the search API.\n",
      "  # This is added back by InteractiveShellApp.init_path()\n"
     ]
    },
    {
     "data": {
      "text/plain": [
       "[{'_index': 'movies8',\n",
       "  '_id': '-v1EbosBRE6UpinOk-ze',\n",
       "  '_score': 0.48874682,\n",
       "  '_source': {'Title': 'Centennial Summer',\n",
       "   'Plot': 'The movie is about two sisters growing up in Philadelphia in the 1870s. They both fall for a Frenchman who has to prepare the pavilion for the Centennial Exposition.'}}]"
      ]
     },
     "execution_count": 82,
     "metadata": {},
     "output_type": "execute_result"
    }
   ],
   "source": [
    "input_kw = \"movies in italy\"\n",
    "token_vector = token_instance.get_token(input_kw)\n",
    "\n",
    "query = {\n",
    "    \"field\": \"vector\",\n",
    "    \"query_vector\": token_vector,\n",
    "    \"k\": 1,\n",
    "    \"num_candidates\": 500\n",
    "}\n",
    "\n",
    "res = es.knn_search(index=\"movies8\", knn=query, source=[\"Title\", \"Plot\"])\n",
    "res[\"hits\"]['hits']"
   ]
  },
  {
   "cell_type": "code",
   "execution_count": 20,
   "metadata": {},
   "outputs": [
    {
     "ename": "NameError",
     "evalue": "name 'PUT' is not defined",
     "output_type": "error",
     "traceback": [
      "\u001b[0;31m---------------------------------------------------------------------------\u001b[0m",
      "\u001b[0;31mNameError\u001b[0m                                 Traceback (most recent call last)",
      "\u001b[0;32m/var/folders/vy/wx4s8rtd79n9d9lh1qlpfmh00000gn/T/ipykernel_41245/332967062.py\u001b[0m in \u001b[0;36m<module>\u001b[0;34m\u001b[0m\n\u001b[0;32m----> 1\u001b[0;31m \u001b[0mPUT\u001b[0m \u001b[0;34m/\u001b[0m\u001b[0mposting\u001b[0m\u001b[0;34m\u001b[0m\u001b[0;34m\u001b[0m\u001b[0m\n\u001b[0m\u001b[1;32m      2\u001b[0m {\n\u001b[1;32m      3\u001b[0m    \"settings\":{\n\u001b[1;32m      4\u001b[0m       \"index\":{\n\u001b[1;32m      5\u001b[0m          \u001b[0;34m\"number_of_shards\"\u001b[0m\u001b[0;34m:\u001b[0m\u001b[0;36m20\u001b[0m\u001b[0;34m,\u001b[0m\u001b[0;34m\u001b[0m\u001b[0;34m\u001b[0m\u001b[0m\n",
      "\u001b[0;31mNameError\u001b[0m: name 'PUT' is not defined"
     ]
    }
   ],
   "source": [
    "mappings = {\n",
    "   \"settings\":{\n",
    "      \"index\":{\n",
    "         \"number_of_shards\":20,\n",
    "         \"number_of_replicas\":1,\n",
    "         \"knn\":{\n",
    "            \"algo_param\":{\n",
    "               \"ef_search\":40,\n",
    "               \"ef_construction\":40,\n",
    "               \"m\":\"4\"\n",
    "            }\n",
    "         }\n",
    "      },\n",
    "      \"knn\":True\n",
    "   },\n",
    "   \"mappings\":{\n",
    "      \"properties\":{\n",
    "         \"vector\":{\n",
    "            \"type\":\"knn_vector\",\n",
    "            \"dimension\":384\n",
    "         }\n",
    "      }\n",
    "   }\n",
    "}"
   ]
  },
  {
   "cell_type": "code",
   "execution_count": 18,
   "metadata": {},
   "outputs": [],
   "source": []
  },
  {
   "cell_type": "code",
   "execution_count": 7,
   "metadata": {},
   "outputs": [
    {
     "ename": "AuthorizationException",
     "evalue": "AuthorizationException(403, 'security_exception', 'action [cluster:monitor/main] is unauthorized for user [jcarlo] with effective roles [enterprise-search-workplace-search-admin], this action is granted by the cluster privileges [monitor,manage,all]')",
     "output_type": "error",
     "traceback": [
      "\u001b[0;31m---------------------------------------------------------------------------\u001b[0m",
      "\u001b[0;31mAuthorizationException\u001b[0m                    Traceback (most recent call last)",
      "\u001b[0;32m/var/folders/vy/wx4s8rtd79n9d9lh1qlpfmh00000gn/T/ipykernel_41918/374014101.py\u001b[0m in \u001b[0;36m<module>\u001b[0;34m\u001b[0m\n\u001b[1;32m     35\u001b[0m \u001b[0;34m\u001b[0m\u001b[0m\n\u001b[1;32m     36\u001b[0m \u001b[0;31m# es = Elasticsearch(elastic_url)\u001b[0m\u001b[0;34m\u001b[0m\u001b[0;34m\u001b[0m\u001b[0;34m\u001b[0m\u001b[0m\n\u001b[0;32m---> 37\u001b[0;31m \u001b[0mclient\u001b[0m\u001b[0;34m.\u001b[0m\u001b[0minfo\u001b[0m\u001b[0;34m(\u001b[0m\u001b[0;34m)\u001b[0m\u001b[0;34m\u001b[0m\u001b[0;34m\u001b[0m\u001b[0m\n\u001b[0m",
      "\u001b[0;32m~/Desktop/Projects/JCARLO/venv/lib/python3.7/site-packages/elasticsearch/_sync/client/utils.py\u001b[0m in \u001b[0;36mwrapped\u001b[0;34m(*args, **kwargs)\u001b[0m\n\u001b[1;32m    400\u001b[0m                         \u001b[0;32mpass\u001b[0m\u001b[0;34m\u001b[0m\u001b[0;34m\u001b[0m\u001b[0m\n\u001b[1;32m    401\u001b[0m \u001b[0;34m\u001b[0m\u001b[0m\n\u001b[0;32m--> 402\u001b[0;31m             \u001b[0;32mreturn\u001b[0m \u001b[0mapi\u001b[0m\u001b[0;34m(\u001b[0m\u001b[0;34m*\u001b[0m\u001b[0margs\u001b[0m\u001b[0;34m,\u001b[0m \u001b[0;34m**\u001b[0m\u001b[0mkwargs\u001b[0m\u001b[0;34m)\u001b[0m\u001b[0;34m\u001b[0m\u001b[0;34m\u001b[0m\u001b[0m\n\u001b[0m\u001b[1;32m    403\u001b[0m \u001b[0;34m\u001b[0m\u001b[0m\n\u001b[1;32m    404\u001b[0m         \u001b[0;32mreturn\u001b[0m \u001b[0mwrapped\u001b[0m  \u001b[0;31m# type: ignore[return-value]\u001b[0m\u001b[0;34m\u001b[0m\u001b[0;34m\u001b[0m\u001b[0m\n",
      "\u001b[0;32m~/Desktop/Projects/JCARLO/venv/lib/python3.7/site-packages/elasticsearch/_sync/client/__init__.py\u001b[0m in \u001b[0;36minfo\u001b[0;34m(self, error_trace, filter_path, human, pretty)\u001b[0m\n\u001b[1;32m   2228\u001b[0m         \u001b[0m__headers\u001b[0m \u001b[0;34m=\u001b[0m \u001b[0;34m{\u001b[0m\u001b[0;34m\"accept\"\u001b[0m\u001b[0;34m:\u001b[0m \u001b[0;34m\"application/json\"\u001b[0m\u001b[0;34m}\u001b[0m\u001b[0;34m\u001b[0m\u001b[0;34m\u001b[0m\u001b[0m\n\u001b[1;32m   2229\u001b[0m         return self.perform_request(  # type: ignore[return-value]\n\u001b[0;32m-> 2230\u001b[0;31m             \u001b[0;34m\"GET\"\u001b[0m\u001b[0;34m,\u001b[0m \u001b[0m__path\u001b[0m\u001b[0;34m,\u001b[0m \u001b[0mparams\u001b[0m\u001b[0;34m=\u001b[0m\u001b[0m__query\u001b[0m\u001b[0;34m,\u001b[0m \u001b[0mheaders\u001b[0m\u001b[0;34m=\u001b[0m\u001b[0m__headers\u001b[0m\u001b[0;34m\u001b[0m\u001b[0;34m\u001b[0m\u001b[0m\n\u001b[0m\u001b[1;32m   2231\u001b[0m         )\n\u001b[1;32m   2232\u001b[0m \u001b[0;34m\u001b[0m\u001b[0m\n",
      "\u001b[0;32m~/Desktop/Projects/JCARLO/venv/lib/python3.7/site-packages/elasticsearch/_sync/client/_base.py\u001b[0m in \u001b[0;36mperform_request\u001b[0;34m(self, method, path, params, headers, body)\u001b[0m\n\u001b[1;32m    319\u001b[0m \u001b[0;34m\u001b[0m\u001b[0m\n\u001b[1;32m    320\u001b[0m             raise HTTP_EXCEPTIONS.get(meta.status, ApiError)(\n\u001b[0;32m--> 321\u001b[0;31m                 \u001b[0mmessage\u001b[0m\u001b[0;34m=\u001b[0m\u001b[0mmessage\u001b[0m\u001b[0;34m,\u001b[0m \u001b[0mmeta\u001b[0m\u001b[0;34m=\u001b[0m\u001b[0mmeta\u001b[0m\u001b[0;34m,\u001b[0m \u001b[0mbody\u001b[0m\u001b[0;34m=\u001b[0m\u001b[0mresp_body\u001b[0m\u001b[0;34m\u001b[0m\u001b[0;34m\u001b[0m\u001b[0m\n\u001b[0m\u001b[1;32m    322\u001b[0m             )\n\u001b[1;32m    323\u001b[0m \u001b[0;34m\u001b[0m\u001b[0m\n",
      "\u001b[0;31mAuthorizationException\u001b[0m: AuthorizationException(403, 'security_exception', 'action [cluster:monitor/main] is unauthorized for user [jcarlo] with effective roles [enterprise-search-workplace-search-admin], this action is granted by the cluster privileges [monitor,manage,all]')"
     ]
    }
   ],
   "source": [
    "from elasticsearch import Elasticsearch\n",
    "# es = Elasticsearch(\n",
    "#     cloud_id=\"d7dcd54f208143b58f49a4ecd793579c:dXMtY2VudHJhbDEuZ2NwLmNsb3VkLmVzLmlvJDJlMzZmMTczN2U1MzRkNDZhNjQ2MDVjMDUyNjQ0OTcwJDRmYmIxZjNjMTIyMDQ5ODZiNTMzMzI3YzljNDM2YmJk\"\n",
    "# )\n",
    "\n",
    "# Connect to elasticsearch\n",
    "ELASTIC_PASSWORD = \"DxbUVrQs7D9u7ii\"\n",
    "\n",
    "# Found in the 'Manage Deployment' page\n",
    "CLOUD_ID = \"d7dcd54f208143b58f49a4ecd793579c:dXMtY2VudHJhbDEuZ2NwLmNsb3VkLmVzLmlvJDJlMzZmMTczN2U1MzRkNDZhNjQ2MDVjMDUyNjQ0OTcwJDRmYmIxZjNjMTIyMDQ5ODZiNTMzMzI3YzljNDM2YmJk\"\n",
    "API_KEY = \"51iq848b9gfxocb2jo71ti3f\"\n",
    "\n",
    "# Create the client instance\n",
    "client = Elasticsearch(\n",
    "    cloud_id=CLOUD_ID,\n",
    "    # api_key=API_KEY\n",
    "    basic_auth=(\"jcarlo\", ELASTIC_PASSWORD)\n",
    "\n",
    "\n",
    "    \n",
    ")\n",
    "\n",
    "\n",
    "# api_key = \"M1JqTFo0c0JSQ1Zsa2xDMk9SaVc6YUNHRTl1dG1UV0NlbzdDZUNnbEtvQQ==\"\n",
    "\n",
    "# elastic_url = {\n",
    "#   \"CloudID\": \"d7dcd54f208143b58f49a4ecd793579c:dXMtY2VudHJhbDEuZ2NwLmNsb3VkLmVzLmlvJDJlMzZmMTczN2U1MzRkNDZhNjQ2MDVjMDUyNjQ0OTcwJDRmYmIxZjNjMTIyMDQ5ODZiNTMzMzI3YzljNDM2YmJk\",\n",
    "#   \"Url\": \"https://2e36f1737e534d46a64605c052644970.us-central1.gcp.cloud.es.io:443\",\n",
    "# }\n",
    "\n",
    "# es = Elasticsearch(hosts=[ENDPOINT],  http_auth=(USERNAME, PASSWORD))\n",
    "# from elasticsearch import Elasticsearch\n",
    "\n",
    "# es = client = Elasticsearch(\n",
    "#   \"https://2e36f1737e534d46a64605c052644970.us-central1.gcp.cloud.es.io:443\",\n",
    "#   # api_key=\"M1JqTFo0c0JSQ1Zsa2xDMk9SaVc6YUNHRTl1dG1UV0NlbzdDZUNnbEtvQQ==\"\n",
    "# )\n",
    "\n",
    "# es = Elasticsearch(elastic_url)\n",
    "client.info()"
   ]
  },
  {
   "cell_type": "code",
   "execution_count": 3,
   "metadata": {},
   "outputs": [],
   "source": [
    "# TODO: what's GC?\n",
    "import gc\n",
    "df = data[['Title','Plot']]\n",
    "del data\n",
    "gc.collect()\n",
    "\n",
    "df.dropna(inplace=True)\n",
    "df.drop_duplicates(subset=['Plot'],inplace=True)"
   ]
  },
  {
   "cell_type": "code",
   "execution_count": 4,
   "metadata": {},
   "outputs": [
    {
     "name": "stderr",
     "output_type": "stream",
     "text": [
      "/Users/uri/Desktop/Projects/JCARLO/venv/lib/python3.7/site-packages/ipykernel_launcher.py:4: UserWarning: \n",
      "\n",
      "`distplot` is a deprecated function and will be removed in seaborn v0.14.0.\n",
      "\n",
      "Please adapt your code to use either `displot` (a figure-level function with\n",
      "similar flexibility) or `histplot` (an axes-level function for histograms).\n",
      "\n",
      "For a guide to updating your code to use the new functions, please see\n",
      "https://gist.github.com/mwaskom/de44147ed2974457ad6372750bbe5751\n",
      "\n",
      "  after removing the cwd from sys.path.\n"
     ]
    },
    {
     "data": {
      "image/png": "[encoded data removed]",
      "text/plain": [
       "<Figure size 640x480 with 1 Axes>"
      ]
     },
     "metadata": {},
     "output_type": "display_data"
    }
   ],
   "source": [
    "# TODO: it would be interesting to analyse this plot\n",
    "df['doc_len'] = df['Plot'].apply(lambda words: len(words.split()))\n",
    "max_seq_len = np.round(df['doc_len'].mean() + df['doc_len'].std()).astype(int)\n",
    "sns.distplot(df['doc_len'], hist=True, kde=True, color='b', label='doc len')\n",
    "plt.axvline(x=max_seq_len, color='k', linestyle='--', label='max len')\n",
    "plt.title('plot length'); plt.legend()\n",
    "plt.show()"
   ]
  },
  {
   "cell_type": "code",
   "execution_count": 5,
   "metadata": {},
   "outputs": [
    {
     "name": "stdout",
     "output_type": "stream",
     "text": [
      "[[ 0.02067142  0.33920652 -0.268573   ...  0.3175822  -0.4776796\n",
      "  -0.27488667]\n",
      " [-0.09493346 -0.00954733 -0.3790629  ...  0.44613332 -0.9814501\n",
      "   0.14715911]\n",
      " [ 0.33530116 -0.2131094  -0.68906343 ...  0.14131138 -0.6853136\n",
      "   0.14905608]\n",
      " ...\n",
      " [ 0.18668652  0.23521179 -0.20946929 ...  0.51503426 -0.6404393\n",
      "   0.07769164]\n",
      " [ 0.0020439  -0.1803374  -0.43841067 ...  0.28032202 -0.66157985\n",
      "  -0.07407728]\n",
      " [ 0.06688607  0.34058136 -0.30187997 ...  0.1086652  -0.23358256\n",
      "  -0.2930713 ]]\n"
     ]
    }
   ],
   "source": [
    "# import the model you want to be use\n",
    "# from sentence_transformers import SentenceTransformer\n",
    "# model = SentenceTransformer('msmarco-distilbert-base-dot-prod-v3')\n",
    "\n",
    "# store embeddings index\n",
    "\n",
    "# PROBLEM: creating the embeddings take a lot of time. For this reason I will reduce the size of the data from 3k to 100.\n",
    "df_short = df[0:100]\n",
    "\n",
    "import faiss\n",
    "encoded_data = model.encode(df_short.Plot.tolist())\n",
    "encoded_data = np.asarray(encoded_data.astype('float32'))\n",
    "print(encoded_data)\n",
    "index = faiss.IndexIDMap(faiss.IndexFlatIP(768))\n",
    "index.add_with_ids(encoded_data, np.array(range(0, len(df_short))))\n",
    "faiss.write_index(index, 'movie_plot.index')"
   ]
  },
  {
   "cell_type": "markdown",
   "metadata": {},
   "source": [
    "## Problem w/ FAISS\n",
    "Theoretically 'faiss' should be installed with 'faiss-gpu' but it did not work for me. Somehow the system was not able to detect 'swig' even thought it's even installed inside the 'venv'. To overcome this issue I used to version for 'faiss-cpu' which is not ideal."
   ]
  },
  {
   "cell_type": "markdown",
   "metadata": {},
   "source": [
    "## Problem with urlib3\n",
    "For some reason the latest version is not compatible with OpenSSL therefore one has to downgrade to a version earlier to 2.0. Follow the following commands (this steps can be avoided using requirements.txt):\n",
    "\n",
    "pip uninstall urllib3\n",
    "pip install 'urllib3<2.0'"
   ]
  },
  {
   "cell_type": "code",
   "execution_count": 1,
   "metadata": {},
   "outputs": [
    {
     "name": "stdout",
     "output_type": "stream",
     "text": [
      "Collecting faiss-gpu\n",
      "  Using cached https://files.pythonhosted.org/packages/17/76/47d0cc8161f4bf988583a2839bb1e56baf09d6b80cfa472b9eba4d5f543b/faiss-gpu-1.7.1.post2.tar.gz\n",
      "\u001b[33m  Generating metadata for package faiss-gpu produced metadata for project name faiss-cpu. Fix your #egg=faiss-gpu fragments.\u001b[0m\n",
      "Installing collected packages: faiss-cpu\n",
      "  Running setup.py install for faiss-cpu ... \u001b[?25lerror\n",
      "    Complete output from command /Users/uri/Desktop/Projects/JCARLO/venv/bin/python3 -u -c \"import setuptools, tokenize;__file__='/private/var/folders/vy/wx4s8rtd79n9d9lh1qlpfmh00000gn/T/pip-install-gw7khda6/faiss-gpu/setup.py';f=getattr(tokenize, 'open', open)(__file__);code=f.read().replace('\\r\\n', '\\n');f.close();exec(compile(code, __file__, 'exec'))\" install --record /private/var/folders/vy/wx4s8rtd79n9d9lh1qlpfmh00000gn/T/pip-record-ztrh4r6d/install-record.txt --single-version-externally-managed --compile --install-headers /Users/uri/Desktop/Projects/JCARLO/venv/include/site/python3.7/faiss-cpu:\n",
      "    running install\n",
      "    running build\n",
      "    running build_py\n",
      "    running build_ext\n",
      "    building 'faiss._swigfaiss' extension\n",
      "    swigging faiss/faiss/python/swigfaiss.i to faiss/faiss/python/swigfaiss_wrap.cpp\n",
      "    swig -python -c++ -Doverride= -I/usr/local/include -Ifaiss -o faiss/faiss/python/swigfaiss_wrap.cpp faiss/faiss/python/swigfaiss.i\n",
      "    faiss/faiss/python/swigfaiss.i:250: Error: Unable to find 'faiss/impl/platform_macros.h'\n",
      "    faiss/faiss/python/swigfaiss.i:254: Error: Unable to find 'faiss/utils/ordered_key_value.h'\n",
      "    faiss/faiss/python/swigfaiss.i:255: Error: Unable to find 'faiss/utils/Heap.h'\n",
      "    faiss/faiss/python/swigfaiss.i:260: Error: Unable to find 'faiss/utils/AlignedTable.h'\n",
      "    faiss/faiss/python/swigfaiss.i:261: Error: Unable to find 'faiss/utils/partitioning.h'\n",
      "    faiss/faiss/python/swigfaiss.i:262: Error: Unable to find 'faiss/utils/hamming.h'\n",
      "    faiss/faiss/python/swigfaiss.i:365: Error: Unable to find 'faiss/utils/utils.h'\n",
      "    faiss/faiss/python/swigfaiss.i:366: Error: Unable to find 'faiss/utils/distances.h'\n",
      "    faiss/faiss/python/swigfaiss.i:367: Error: Unable to find 'faiss/utils/random.h'\n",
      "    faiss/faiss/python/swigfaiss.i:369: Error: Unable to find 'faiss/MetricType.h'\n",
      "    faiss/faiss/python/swigfaiss.i:372: Error: Unable to find 'faiss/Index.h'\n",
      "    faiss/faiss/python/swigfaiss.i:373: Error: Unable to find 'faiss/Clustering.h'\n",
      "    faiss/faiss/python/swigfaiss.i:375: Error: Unable to find 'faiss/utils/extra_distances.h'\n",
      "    faiss/faiss/python/swigfaiss.i:379: Error: Unable to find 'faiss/impl/ProductQuantizer.h'\n",
      "    faiss/faiss/python/swigfaiss.i:380: Error: Unable to find 'faiss/impl/AdditiveQuantizer.h'\n",
      "    faiss/faiss/python/swigfaiss.i:381: Error: Unable to find 'faiss/impl/ResidualQuantizer.h'\n",
      "    faiss/faiss/python/swigfaiss.i:382: Error: Unable to find 'faiss/impl/LocalSearchQuantizer.h'\n",
      "    faiss/faiss/python/swigfaiss.i:384: Error: Unable to find 'faiss/VectorTransform.h'\n",
      "    faiss/faiss/python/swigfaiss.i:385: Error: Unable to find 'faiss/IndexPreTransform.h'\n",
      "    faiss/faiss/python/swigfaiss.i:386: Error: Unable to find 'faiss/IndexFlat.h'\n",
      "    faiss/faiss/python/swigfaiss.i:387: Error: Unable to find 'faiss/IndexRefine.h'\n",
      "    faiss/faiss/python/swigfaiss.i:388: Error: Unable to find 'faiss/IndexLSH.h'\n",
      "    faiss/faiss/python/swigfaiss.i:389: Error: Unable to find 'faiss/impl/PolysemousTraining.h'\n",
      "    faiss/faiss/python/swigfaiss.i:390: Error: Unable to find 'faiss/IndexPQ.h'\n",
      "    faiss/faiss/python/swigfaiss.i:391: Error: Unable to find 'faiss/IndexResidual.h'\n",
      "    faiss/faiss/python/swigfaiss.i:392: Error: Unable to find 'faiss/impl/io.h'\n",
      "    faiss/faiss/python/swigfaiss.i:394: Error: Unable to find 'faiss/invlists/InvertedLists.h'\n",
      "    faiss/faiss/python/swigfaiss.i:395: Error: Unable to find 'faiss/invlists/InvertedListsIOHook.h'\n",
      "    faiss/faiss/python/swigfaiss.i:397: Error: Unable to find 'faiss/invlists/BlockInvertedLists.h'\n",
      "    faiss/faiss/python/swigfaiss.i:398: Error: Unable to find 'faiss/invlists/DirectMap.h'\n",
      "    faiss/faiss/python/swigfaiss.i:401: Error: Unable to find 'faiss/IndexIVF.h'\n",
      "    faiss/faiss/python/swigfaiss.i:406: Error: Unable to find 'faiss/IVFlib.h'\n",
      "    faiss/faiss/python/swigfaiss.i:407: Error: Unable to find 'faiss/impl/ScalarQuantizer.h'\n",
      "    faiss/faiss/python/swigfaiss.i:408: Error: Unable to find 'faiss/IndexScalarQuantizer.h'\n",
      "    faiss/faiss/python/swigfaiss.i:409: Error: Unable to find 'faiss/IndexIVFSpectralHash.h'\n",
      "    faiss/faiss/python/swigfaiss.i:410: Error: Unable to find 'faiss/impl/HNSW.h'\n",
      "    faiss/faiss/python/swigfaiss.i:411: Error: Unable to find 'faiss/IndexHNSW.h'\n",
      "    faiss/faiss/python/swigfaiss.i:414: Error: Unable to find 'faiss/impl/NNDescent.h'\n",
      "    faiss/faiss/python/swigfaiss.i:415: Error: Unable to find 'faiss/IndexNNDescent.h'\n",
      "    faiss/faiss/python/swigfaiss.i:417: Error: Unable to find 'faiss/IndexIVFFlat.h'\n",
      "    faiss/faiss/python/swigfaiss.i:418: Error: Unable to find 'faiss/impl/NSG.h'\n",
      "    faiss/faiss/python/swigfaiss.i:419: Error: Unable to find 'faiss/IndexNSG.h'\n",
      "    faiss/faiss/python/swigfaiss.i:424: Error: Unable to find 'faiss/invlists/OnDiskInvertedLists.h'\n",
      "    faiss/faiss/python/swigfaiss.i:427: Error: Unable to find 'faiss/impl/lattice_Zn.h'\n",
      "    faiss/faiss/python/swigfaiss.i:428: Error: Unable to find 'faiss/IndexLattice.h'\n",
      "    faiss/faiss/python/swigfaiss.i:431: Error: Unable to find 'faiss/IndexIVFPQ.h'\n",
      "    faiss/faiss/python/swigfaiss.i:432: Error: Unable to find 'faiss/IndexIVFPQR.h'\n",
      "    faiss/faiss/python/swigfaiss.i:433: Error: Unable to find 'faiss/Index2Layer.h'\n",
      "    faiss/faiss/python/swigfaiss.i:435: Error: Unable to find 'faiss/IndexPQFastScan.h'\n",
      "    faiss/faiss/python/swigfaiss.i:436: Error: Unable to find 'faiss/IndexIVFPQFastScan.h'\n",
      "    faiss/faiss/python/swigfaiss.i:437: Error: Unable to find 'faiss/utils/quantize_lut.h'\n",
      "    faiss/faiss/python/swigfaiss.i:439: Error: Unable to find 'faiss/IndexBinary.h'\n",
      "    faiss/faiss/python/swigfaiss.i:440: Error: Unable to find 'faiss/IndexBinaryFlat.h'\n",
      "    faiss/faiss/python/swigfaiss.i:441: Error: Unable to find 'faiss/IndexBinaryIVF.h'\n",
      "    faiss/faiss/python/swigfaiss.i:442: Error: Unable to find 'faiss/IndexBinaryFromFloat.h'\n",
      "    faiss/faiss/python/swigfaiss.i:443: Error: Unable to find 'faiss/IndexBinaryHNSW.h'\n",
      "    faiss/faiss/python/swigfaiss.i:444: Error: Unable to find 'faiss/IndexBinaryHash.h'\n",
      "    faiss/faiss/python/swigfaiss.i:446: Error: Unable to find 'faiss/impl/ThreadedIndex.h'\n",
      "    faiss/faiss/python/swigfaiss.i:450: Error: Unable to find 'faiss/IndexShards.h'\n",
      "    faiss/faiss/python/swigfaiss.i:454: Error: Unable to find 'faiss/IndexReplicas.h'\n",
      "    faiss/faiss/python/swigfaiss.i:458: Error: Unable to find 'faiss/MetaIndexes.h'\n",
      "    faiss/faiss/python/swigfaiss.i:473: Error: Unable to find 'faiss/impl/AuxIndexStructures.h'\n",
      "    faiss/faiss/python/swigfaiss.i:663: Error: Unable to find 'faiss/index_io.h'\n",
      "    faiss/faiss/python/swigfaiss.i:664: Error: Unable to find 'faiss/clone_index.h'\n",
      "    faiss/faiss/python/swigfaiss.i:668: Error: Unable to find 'faiss/AutoTune.h'\n",
      "    faiss/faiss/python/swigfaiss.i:669: Error: Unable to find 'faiss/index_factory.h'\n",
      "    faiss/faiss/python/swigfaiss.i:670: Error: Unable to find 'faiss/MatrixStats.h'\n",
      "    error: command 'swig' failed with exit status 1\n",
      "    \n",
      "    ----------------------------------------\n",
      "\u001b[?25h\u001b[31mCommand \"/Users/uri/Desktop/Projects/JCARLO/venv/bin/python3 -u -c \"import setuptools, tokenize;__file__='/private/var/folders/vy/wx4s8rtd79n9d9lh1qlpfmh00000gn/T/pip-install-gw7khda6/faiss-gpu/setup.py';f=getattr(tokenize, 'open', open)(__file__);code=f.read().replace('\\r\\n', '\\n');f.close();exec(compile(code, __file__, 'exec'))\" install --record /private/var/folders/vy/wx4s8rtd79n9d9lh1qlpfmh00000gn/T/pip-record-ztrh4r6d/install-record.txt --single-version-externally-managed --compile --install-headers /Users/uri/Desktop/Projects/JCARLO/venv/include/site/python3.7/faiss-cpu\" failed with error code 1 in /private/var/folders/vy/wx4s8rtd79n9d9lh1qlpfmh00000gn/T/pip-install-gw7khda6/faiss-gpu/\u001b[0m\n",
      "\u001b[33mYou are using pip version 19.0.3, however version 23.3.1 is available.\n",
      "You should consider upgrading via the 'pip install --upgrade pip' command.\u001b[0m\n"
     ]
    }
   ],
   "source": [
    "# TODO: allow this to run\n",
    "# !pip install faiss-gpu"
   ]
  },
  {
   "cell_type": "code",
   "execution_count": 7,
   "metadata": {},
   "outputs": [],
   "source": [
    "# HELPER FUNCTIONS\n",
    "\n",
    "# fetch movies from FAISS directory\n",
    "def fetch_movie_info(dataframe_idx):\n",
    "    info = df_short.iloc[dataframe_idx]\n",
    "    # info = df.iloc[dataframe_idx]\n",
    "    meta_dict = dict()\n",
    "    meta_dict['Title'] = info['Title']\n",
    "    meta_dict['Plot'] = info['Plot'][:500]\n",
    "    return meta_dict\n",
    "\n",
    "# encodes user query\n",
    "def search(query, top_k, index, model):\n",
    "    t=time.time()\n",
    "    query_vector = model.encode([query])\n",
    "    top_k = index.search(query_vector, top_k)\n",
    "    print('>>>> Results in Total Time: {}'.format(time.time()-t))\n",
    "    top_k_ids = top_k[1].tolist()[0]\n",
    "    top_k_ids = list(np.unique(top_k_ids))\n",
    "    results =  [fetch_movie_info(idx) for idx in top_k_ids]\n",
    "    return results"
   ]
  },
  {
   "cell_type": "code",
   "execution_count": 8,
   "metadata": {},
   "outputs": [
    {
     "ename": "",
     "evalue": "",
     "output_type": "error",
     "traceback": [
      "\u001b[1;31mThe Kernel crashed while executing code in the the current cell or a previous cell. Please review the code in the cell(s) to identify a possible cause of the failure. Click <a href='https://aka.ms/vscodeJupyterKernelCrash'>here</a> for more info. View Jupyter <a href='command:jupyter.viewOutput'>log</a> for further details."
     ]
    }
   ],
   "source": [
    "# from pprint import pprint\n",
    "query=\"A short movie\"\n",
    "results=search(query, top_k=5, index=index, model=model)\n",
    "print(\"\\n\")\n",
    "for result in results:\n",
    "    print('\\t',result)"
   ]
  },
  {
   "cell_type": "markdown",
   "metadata": {},
   "source": [
    "### Jupyter Erorr Message (Dyeing)\n",
    "\n",
    "FutureWarning: Supporting extra quotes around strings is deprecated in traitlets 5.0. You can use 'hmac-sha256' instead of '\"hmac-sha256\"' if you require traitlets >=5.\n",
    "  FutureWarning,\n",
    "~/Desktop/Projects/JCARLO/venv/lib/python3.7/site-packages/traitlets/traitlets.py:2502: FutureWarning: Supporting extra quotes around Bytes is deprecated in traitlets 5.0. Use '586d1a14-aa63-4f9b-8e06-d6ae10337fef' instead of 'b\"586d1a14-aa63-4f9b-8e06-d6ae10337fef\"'.\n",
    "  FutureWarning,"
   ]
  },
  {
   "cell_type": "markdown",
   "metadata": {},
   "source": []
  }
 ],
 "metadata": {
  "kernelspec": {
   "display_name": "venv",
   "language": "python",
   "name": "python3"
  },
  "language_info": {
   "codemirror_mode": {
    "name": "ipython",
    "version": 3
   },
   "file_extension": ".py",
   "mimetype": "text/x-python",
   "name": "python",
   "nbconvert_exporter": "python",
   "pygments_lexer": "ipython3",
   "version": "3.7.3"
  }
 },
 "nbformat": 4,
 "nbformat_minor": 2
}
